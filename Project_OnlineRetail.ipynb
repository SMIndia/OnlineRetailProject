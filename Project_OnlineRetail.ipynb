{
 "cells": [
  {
   "cell_type": "code",
   "execution_count": 1,
   "metadata": {
    "id": "Y-uALg2wgmCu"
   },
   "outputs": [],
   "source": [
    "import pandas as pd\n",
    "import numpy as np\n",
    "import matplotlib.pyplot as plt\n",
    "import seaborn as sns\n",
    "import warnings\n",
    "warnings.simplefilter(\"ignore\")"
   ]
  },
  {
   "cell_type": "code",
   "execution_count": 2,
   "metadata": {
    "id": "vxP6_ciAgwvv"
   },
   "outputs": [],
   "source": [
    "df=pd.read_csv(r'C:\\Users\\DELL\\Desktop\\Capstone\\ONLINE RETAIL\\OnlineRetail.csv',encoding= 'unicode_escape')"
   ]
  },
  {
   "cell_type": "code",
   "execution_count": 3,
   "metadata": {
    "colab": {
     "base_uri": "https://localhost:8080/"
    },
    "id": "n9aNgLh7hPpl",
    "outputId": "417fae83-1215-41a4-acc0-b9bafce77d7c"
   },
   "outputs": [
    {
     "data": {
      "text/plain": [
       "(541909, 8)"
      ]
     },
     "execution_count": 3,
     "metadata": {},
     "output_type": "execute_result"
    }
   ],
   "source": [
    "df.shape"
   ]
  },
  {
   "cell_type": "code",
   "execution_count": 4,
   "metadata": {
    "colab": {
     "base_uri": "https://localhost:8080/",
     "height": 112
    },
    "id": "MaBslpOqhXFX",
    "outputId": "24ff71dd-2bed-4232-8a7d-1dfdddb7b966"
   },
   "outputs": [
    {
     "data": {
      "text/html": [
       "<div>\n",
       "<style scoped>\n",
       "    .dataframe tbody tr th:only-of-type {\n",
       "        vertical-align: middle;\n",
       "    }\n",
       "\n",
       "    .dataframe tbody tr th {\n",
       "        vertical-align: top;\n",
       "    }\n",
       "\n",
       "    .dataframe thead th {\n",
       "        text-align: right;\n",
       "    }\n",
       "</style>\n",
       "<table border=\"1\" class=\"dataframe\">\n",
       "  <thead>\n",
       "    <tr style=\"text-align: right;\">\n",
       "      <th></th>\n",
       "      <th>InvoiceNo</th>\n",
       "      <th>StockCode</th>\n",
       "      <th>Description</th>\n",
       "      <th>Quantity</th>\n",
       "      <th>InvoiceDate</th>\n",
       "      <th>UnitPrice</th>\n",
       "      <th>CustomerID</th>\n",
       "      <th>Country</th>\n",
       "    </tr>\n",
       "  </thead>\n",
       "  <tbody>\n",
       "    <tr>\n",
       "      <th>0</th>\n",
       "      <td>536365</td>\n",
       "      <td>85123A</td>\n",
       "      <td>WHITE HANGING HEART T-LIGHT HOLDER</td>\n",
       "      <td>6</td>\n",
       "      <td>12/1/2010 8:26</td>\n",
       "      <td>2.55</td>\n",
       "      <td>17850.0</td>\n",
       "      <td>United Kingdom</td>\n",
       "    </tr>\n",
       "    <tr>\n",
       "      <th>1</th>\n",
       "      <td>536365</td>\n",
       "      <td>71053</td>\n",
       "      <td>WHITE METAL LANTERN</td>\n",
       "      <td>6</td>\n",
       "      <td>12/1/2010 8:26</td>\n",
       "      <td>3.39</td>\n",
       "      <td>17850.0</td>\n",
       "      <td>United Kingdom</td>\n",
       "    </tr>\n",
       "  </tbody>\n",
       "</table>\n",
       "</div>"
      ],
      "text/plain": [
       "  InvoiceNo StockCode                         Description  Quantity  \\\n",
       "0    536365    85123A  WHITE HANGING HEART T-LIGHT HOLDER         6   \n",
       "1    536365     71053                 WHITE METAL LANTERN         6   \n",
       "\n",
       "      InvoiceDate  UnitPrice  CustomerID         Country  \n",
       "0  12/1/2010 8:26       2.55     17850.0  United Kingdom  \n",
       "1  12/1/2010 8:26       3.39     17850.0  United Kingdom  "
      ]
     },
     "execution_count": 4,
     "metadata": {},
     "output_type": "execute_result"
    }
   ],
   "source": [
    "df.head(2)"
   ]
  },
  {
   "cell_type": "code",
   "execution_count": 5,
   "metadata": {
    "colab": {
     "base_uri": "https://localhost:8080/"
    },
    "id": "N28Jy2L3hQXt",
    "outputId": "6ebb1b48-8aae-4ec3-cc7e-520e27583227"
   },
   "outputs": [
    {
     "name": "stdout",
     "output_type": "stream",
     "text": [
      "<class 'pandas.core.frame.DataFrame'>\n",
      "RangeIndex: 541909 entries, 0 to 541908\n",
      "Data columns (total 8 columns):\n",
      " #   Column       Non-Null Count   Dtype  \n",
      "---  ------       --------------   -----  \n",
      " 0   InvoiceNo    541909 non-null  object \n",
      " 1   StockCode    541909 non-null  object \n",
      " 2   Description  540455 non-null  object \n",
      " 3   Quantity     541909 non-null  int64  \n",
      " 4   InvoiceDate  541909 non-null  object \n",
      " 5   UnitPrice    541909 non-null  float64\n",
      " 6   CustomerID   406829 non-null  float64\n",
      " 7   Country      541909 non-null  object \n",
      "dtypes: float64(2), int64(1), object(5)\n",
      "memory usage: 33.1+ MB\n"
     ]
    }
   ],
   "source": [
    "df.info()"
   ]
  },
  {
   "cell_type": "code",
   "execution_count": 6,
   "metadata": {
    "colab": {
     "base_uri": "https://localhost:8080/"
    },
    "id": "g_F40BDThQOP",
    "outputId": "f8026452-bd70-471b-ac71-a06478833bc1"
   },
   "outputs": [
    {
     "data": {
      "text/plain": [
       "InvoiceNo           0\n",
       "StockCode           0\n",
       "Description      1454\n",
       "Quantity            0\n",
       "InvoiceDate         0\n",
       "UnitPrice           0\n",
       "CustomerID     135080\n",
       "Country             0\n",
       "dtype: int64"
      ]
     },
     "execution_count": 6,
     "metadata": {},
     "output_type": "execute_result"
    }
   ],
   "source": [
    "df.isnull().sum()"
   ]
  },
  {
   "cell_type": "code",
   "execution_count": 7,
   "metadata": {
    "id": "ZLCKdaXTnS1Z"
   },
   "outputs": [],
   "source": [
    "df.dropna(inplace=True)"
   ]
  },
  {
   "cell_type": "code",
   "execution_count": 8,
   "metadata": {
    "colab": {
     "base_uri": "https://localhost:8080/"
    },
    "id": "7JnOReY8no-L",
    "outputId": "f872db30-5b2a-4a93-e194-2be8bdd719e0"
   },
   "outputs": [
    {
     "name": "stdout",
     "output_type": "stream",
     "text": [
      "<class 'pandas.core.frame.DataFrame'>\n",
      "Int64Index: 406829 entries, 0 to 541908\n",
      "Data columns (total 8 columns):\n",
      " #   Column       Non-Null Count   Dtype  \n",
      "---  ------       --------------   -----  \n",
      " 0   InvoiceNo    406829 non-null  object \n",
      " 1   StockCode    406829 non-null  object \n",
      " 2   Description  406829 non-null  object \n",
      " 3   Quantity     406829 non-null  int64  \n",
      " 4   InvoiceDate  406829 non-null  object \n",
      " 5   UnitPrice    406829 non-null  float64\n",
      " 6   CustomerID   406829 non-null  float64\n",
      " 7   Country      406829 non-null  object \n",
      "dtypes: float64(2), int64(1), object(5)\n",
      "memory usage: 27.9+ MB\n"
     ]
    }
   ],
   "source": [
    "df.info()"
   ]
  },
  {
   "cell_type": "code",
   "execution_count": 9,
   "metadata": {
    "colab": {
     "base_uri": "https://localhost:8080/",
     "height": 112
    },
    "id": "TB-fE4Kv6oUP",
    "outputId": "1fecf5f0-3ed3-4420-e249-308ce0ccd579"
   },
   "outputs": [],
   "source": [
    "#Change datatype of CustomerID to string\n",
    "df['CustomerID']=df['CustomerID'].astype('str')"
   ]
  },
  {
   "cell_type": "code",
   "execution_count": 10,
   "metadata": {},
   "outputs": [
    {
     "name": "stdout",
     "output_type": "stream",
     "text": [
      "<class 'pandas.core.frame.DataFrame'>\n",
      "Int64Index: 406829 entries, 0 to 541908\n",
      "Data columns (total 8 columns):\n",
      " #   Column       Non-Null Count   Dtype  \n",
      "---  ------       --------------   -----  \n",
      " 0   InvoiceNo    406829 non-null  object \n",
      " 1   StockCode    406829 non-null  object \n",
      " 2   Description  406829 non-null  object \n",
      " 3   Quantity     406829 non-null  int64  \n",
      " 4   InvoiceDate  406829 non-null  object \n",
      " 5   UnitPrice    406829 non-null  float64\n",
      " 6   CustomerID   406829 non-null  object \n",
      " 7   Country      406829 non-null  object \n",
      "dtypes: float64(1), int64(1), object(6)\n",
      "memory usage: 27.9+ MB\n"
     ]
    }
   ],
   "source": [
    "df.info()"
   ]
  },
  {
   "cell_type": "code",
   "execution_count": 130,
   "metadata": {
    "id": "BLpUP1IM936S"
   },
   "outputs": [],
   "source": [
    "#Based on the data available we are going to analysize the customers on Recency(no of days since last purchase),\n",
    "#   Frequecy(no of transactions), Amount(Total amount in all transactions)"
   ]
  },
  {
   "cell_type": "code",
   "execution_count": 22,
   "metadata": {
    "colab": {
     "base_uri": "https://localhost:8080/",
     "height": 206
    },
    "id": "Bmc2T2cqBPJa",
    "outputId": "559b62d9-8764-4fb5-b8ca-6e646446c042"
   },
   "outputs": [
    {
     "data": {
      "text/html": [
       "<div>\n",
       "<style scoped>\n",
       "    .dataframe tbody tr th:only-of-type {\n",
       "        vertical-align: middle;\n",
       "    }\n",
       "\n",
       "    .dataframe tbody tr th {\n",
       "        vertical-align: top;\n",
       "    }\n",
       "\n",
       "    .dataframe thead th {\n",
       "        text-align: right;\n",
       "    }\n",
       "</style>\n",
       "<table border=\"1\" class=\"dataframe\">\n",
       "  <thead>\n",
       "    <tr style=\"text-align: right;\">\n",
       "      <th></th>\n",
       "      <th>CustomerID</th>\n",
       "      <th>tot_amt</th>\n",
       "    </tr>\n",
       "  </thead>\n",
       "  <tbody>\n",
       "    <tr>\n",
       "      <th>0</th>\n",
       "      <td>12346.0</td>\n",
       "      <td>0.00</td>\n",
       "    </tr>\n",
       "    <tr>\n",
       "      <th>1</th>\n",
       "      <td>12347.0</td>\n",
       "      <td>4310.00</td>\n",
       "    </tr>\n",
       "    <tr>\n",
       "      <th>2</th>\n",
       "      <td>12348.0</td>\n",
       "      <td>1797.24</td>\n",
       "    </tr>\n",
       "    <tr>\n",
       "      <th>3</th>\n",
       "      <td>12349.0</td>\n",
       "      <td>1757.55</td>\n",
       "    </tr>\n",
       "    <tr>\n",
       "      <th>4</th>\n",
       "      <td>12350.0</td>\n",
       "      <td>334.40</td>\n",
       "    </tr>\n",
       "  </tbody>\n",
       "</table>\n",
       "</div>"
      ],
      "text/plain": [
       "  CustomerID  tot_amt\n",
       "0    12346.0     0.00\n",
       "1    12347.0  4310.00\n",
       "2    12348.0  1797.24\n",
       "3    12349.0  1757.55\n",
       "4    12350.0   334.40"
      ]
     },
     "execution_count": 22,
     "metadata": {},
     "output_type": "execute_result"
    }
   ],
   "source": [
    "#Data preparation to analysize as per above\n",
    "df['amount']=df['UnitPrice']*df['Quantity']\n",
    "data_amt=df.groupby('CustomerID')['amount'].sum()\n",
    "data_amt=data_amt.reset_index()\n",
    "data_amt.rename(columns={'amount':'tot_amt'},inplace=True)\n",
    "data_amt.head()"
   ]
  },
  {
   "cell_type": "code",
   "execution_count": 23,
   "metadata": {
    "colab": {
     "base_uri": "https://localhost:8080/",
     "height": 206
    },
    "id": "XnLiZOsqCrWe",
    "outputId": "d2b23736-a17a-4ae1-92d1-b044d113c7cc"
   },
   "outputs": [
    {
     "data": {
      "text/html": [
       "<div>\n",
       "<style scoped>\n",
       "    .dataframe tbody tr th:only-of-type {\n",
       "        vertical-align: middle;\n",
       "    }\n",
       "\n",
       "    .dataframe tbody tr th {\n",
       "        vertical-align: top;\n",
       "    }\n",
       "\n",
       "    .dataframe thead th {\n",
       "        text-align: right;\n",
       "    }\n",
       "</style>\n",
       "<table border=\"1\" class=\"dataframe\">\n",
       "  <thead>\n",
       "    <tr style=\"text-align: right;\">\n",
       "      <th></th>\n",
       "      <th>CustomerID</th>\n",
       "      <th>no_of_trans</th>\n",
       "    </tr>\n",
       "  </thead>\n",
       "  <tbody>\n",
       "    <tr>\n",
       "      <th>0</th>\n",
       "      <td>12346.0</td>\n",
       "      <td>2</td>\n",
       "    </tr>\n",
       "    <tr>\n",
       "      <th>1</th>\n",
       "      <td>12347.0</td>\n",
       "      <td>182</td>\n",
       "    </tr>\n",
       "    <tr>\n",
       "      <th>2</th>\n",
       "      <td>12348.0</td>\n",
       "      <td>31</td>\n",
       "    </tr>\n",
       "    <tr>\n",
       "      <th>3</th>\n",
       "      <td>12349.0</td>\n",
       "      <td>73</td>\n",
       "    </tr>\n",
       "    <tr>\n",
       "      <th>4</th>\n",
       "      <td>12350.0</td>\n",
       "      <td>17</td>\n",
       "    </tr>\n",
       "  </tbody>\n",
       "</table>\n",
       "</div>"
      ],
      "text/plain": [
       "  CustomerID  no_of_trans\n",
       "0    12346.0            2\n",
       "1    12347.0          182\n",
       "2    12348.0           31\n",
       "3    12349.0           73\n",
       "4    12350.0           17"
      ]
     },
     "execution_count": 23,
     "metadata": {},
     "output_type": "execute_result"
    }
   ],
   "source": [
    "data_freq=df.groupby('CustomerID')['InvoiceNo'].count()\n",
    "data_freq=data_freq.reset_index()\n",
    "data_freq.rename(columns={'InvoiceNo':'no_of_trans'},inplace=True)\n",
    "data_freq.head()"
   ]
  },
  {
   "cell_type": "code",
   "execution_count": 24,
   "metadata": {
    "id": "jv1yiMa_DPwt"
   },
   "outputs": [],
   "source": [
    "df['InvoiceDate']=pd.to_datetime(df['InvoiceDate'])"
   ]
  },
  {
   "cell_type": "code",
   "execution_count": 25,
   "metadata": {
    "colab": {
     "base_uri": "https://localhost:8080/",
     "height": 206
    },
    "id": "VatpVirgDjyu",
    "outputId": "c96c148b-ed5d-4d4e-ca99-66b8f5a36f0d"
   },
   "outputs": [
    {
     "data": {
      "text/html": [
       "<div>\n",
       "<style scoped>\n",
       "    .dataframe tbody tr th:only-of-type {\n",
       "        vertical-align: middle;\n",
       "    }\n",
       "\n",
       "    .dataframe tbody tr th {\n",
       "        vertical-align: top;\n",
       "    }\n",
       "\n",
       "    .dataframe thead th {\n",
       "        text-align: right;\n",
       "    }\n",
       "</style>\n",
       "<table border=\"1\" class=\"dataframe\">\n",
       "  <thead>\n",
       "    <tr style=\"text-align: right;\">\n",
       "      <th></th>\n",
       "      <th>CustomerID</th>\n",
       "      <th>InvoiceDate</th>\n",
       "    </tr>\n",
       "  </thead>\n",
       "  <tbody>\n",
       "    <tr>\n",
       "      <th>0</th>\n",
       "      <td>12346.0</td>\n",
       "      <td>2011-01-18 10:17:00</td>\n",
       "    </tr>\n",
       "    <tr>\n",
       "      <th>1</th>\n",
       "      <td>12347.0</td>\n",
       "      <td>2011-12-07 15:52:00</td>\n",
       "    </tr>\n",
       "    <tr>\n",
       "      <th>2</th>\n",
       "      <td>12348.0</td>\n",
       "      <td>2011-09-25 13:13:00</td>\n",
       "    </tr>\n",
       "    <tr>\n",
       "      <th>3</th>\n",
       "      <td>12349.0</td>\n",
       "      <td>2011-11-21 09:51:00</td>\n",
       "    </tr>\n",
       "    <tr>\n",
       "      <th>4</th>\n",
       "      <td>12350.0</td>\n",
       "      <td>2011-02-02 16:01:00</td>\n",
       "    </tr>\n",
       "  </tbody>\n",
       "</table>\n",
       "</div>"
      ],
      "text/plain": [
       "  CustomerID         InvoiceDate\n",
       "0    12346.0 2011-01-18 10:17:00\n",
       "1    12347.0 2011-12-07 15:52:00\n",
       "2    12348.0 2011-09-25 13:13:00\n",
       "3    12349.0 2011-11-21 09:51:00\n",
       "4    12350.0 2011-02-02 16:01:00"
      ]
     },
     "execution_count": 25,
     "metadata": {},
     "output_type": "execute_result"
    }
   ],
   "source": [
    "data_rec=df.groupby('CustomerID')['InvoiceDate'].max()\n",
    "data_rec=data_rec.reset_index()\n",
    "data_rec.head()"
   ]
  },
  {
   "cell_type": "code",
   "execution_count": 26,
   "metadata": {
    "colab": {
     "base_uri": "https://localhost:8080/",
     "height": 206
    },
    "id": "nYBM3BUOEDnc",
    "outputId": "fe37620d-59db-4169-def2-74e67434ad2b"
   },
   "outputs": [
    {
     "data": {
      "text/html": [
       "<div>\n",
       "<style scoped>\n",
       "    .dataframe tbody tr th:only-of-type {\n",
       "        vertical-align: middle;\n",
       "    }\n",
       "\n",
       "    .dataframe tbody tr th {\n",
       "        vertical-align: top;\n",
       "    }\n",
       "\n",
       "    .dataframe thead th {\n",
       "        text-align: right;\n",
       "    }\n",
       "</style>\n",
       "<table border=\"1\" class=\"dataframe\">\n",
       "  <thead>\n",
       "    <tr style=\"text-align: right;\">\n",
       "      <th></th>\n",
       "      <th>CustomerID</th>\n",
       "      <th>days_since_last_trans</th>\n",
       "    </tr>\n",
       "  </thead>\n",
       "  <tbody>\n",
       "    <tr>\n",
       "      <th>0</th>\n",
       "      <td>12346.0</td>\n",
       "      <td>325</td>\n",
       "    </tr>\n",
       "    <tr>\n",
       "      <th>1</th>\n",
       "      <td>12347.0</td>\n",
       "      <td>1</td>\n",
       "    </tr>\n",
       "    <tr>\n",
       "      <th>2</th>\n",
       "      <td>12348.0</td>\n",
       "      <td>74</td>\n",
       "    </tr>\n",
       "    <tr>\n",
       "      <th>3</th>\n",
       "      <td>12349.0</td>\n",
       "      <td>18</td>\n",
       "    </tr>\n",
       "    <tr>\n",
       "      <th>4</th>\n",
       "      <td>12350.0</td>\n",
       "      <td>309</td>\n",
       "    </tr>\n",
       "  </tbody>\n",
       "</table>\n",
       "</div>"
      ],
      "text/plain": [
       "  CustomerID  days_since_last_trans\n",
       "0    12346.0                    325\n",
       "1    12347.0                      1\n",
       "2    12348.0                     74\n",
       "3    12349.0                     18\n",
       "4    12350.0                    309"
      ]
     },
     "execution_count": 26,
     "metadata": {},
     "output_type": "execute_result"
    }
   ],
   "source": [
    "from datetime import date\n",
    "data_rec['InvoiceDate']=(data_rec['InvoiceDate'].max()-data_rec['InvoiceDate']).dt.days\n",
    "data_rec.rename(columns={'InvoiceDate':'days_since_last_trans'},inplace=True)\n",
    "data_rec.head()"
   ]
  },
  {
   "cell_type": "code",
   "execution_count": 27,
   "metadata": {
    "colab": {
     "base_uri": "https://localhost:8080/",
     "height": 206
    },
    "id": "6fZEP8LDFv4c",
    "outputId": "cb84eb78-a815-41de-e005-c56300cdee2c"
   },
   "outputs": [
    {
     "data": {
      "text/html": [
       "<div>\n",
       "<style scoped>\n",
       "    .dataframe tbody tr th:only-of-type {\n",
       "        vertical-align: middle;\n",
       "    }\n",
       "\n",
       "    .dataframe tbody tr th {\n",
       "        vertical-align: top;\n",
       "    }\n",
       "\n",
       "    .dataframe thead th {\n",
       "        text-align: right;\n",
       "    }\n",
       "</style>\n",
       "<table border=\"1\" class=\"dataframe\">\n",
       "  <thead>\n",
       "    <tr style=\"text-align: right;\">\n",
       "      <th></th>\n",
       "      <th>CustomerID</th>\n",
       "      <th>tot_amt</th>\n",
       "      <th>no_of_trans</th>\n",
       "    </tr>\n",
       "  </thead>\n",
       "  <tbody>\n",
       "    <tr>\n",
       "      <th>0</th>\n",
       "      <td>12346.0</td>\n",
       "      <td>0.00</td>\n",
       "      <td>2</td>\n",
       "    </tr>\n",
       "    <tr>\n",
       "      <th>1</th>\n",
       "      <td>12347.0</td>\n",
       "      <td>4310.00</td>\n",
       "      <td>182</td>\n",
       "    </tr>\n",
       "    <tr>\n",
       "      <th>2</th>\n",
       "      <td>12348.0</td>\n",
       "      <td>1797.24</td>\n",
       "      <td>31</td>\n",
       "    </tr>\n",
       "    <tr>\n",
       "      <th>3</th>\n",
       "      <td>12349.0</td>\n",
       "      <td>1757.55</td>\n",
       "      <td>73</td>\n",
       "    </tr>\n",
       "    <tr>\n",
       "      <th>4</th>\n",
       "      <td>12350.0</td>\n",
       "      <td>334.40</td>\n",
       "      <td>17</td>\n",
       "    </tr>\n",
       "  </tbody>\n",
       "</table>\n",
       "</div>"
      ],
      "text/plain": [
       "  CustomerID  tot_amt  no_of_trans\n",
       "0    12346.0     0.00            2\n",
       "1    12347.0  4310.00          182\n",
       "2    12348.0  1797.24           31\n",
       "3    12349.0  1757.55           73\n",
       "4    12350.0   334.40           17"
      ]
     },
     "execution_count": 27,
     "metadata": {},
     "output_type": "execute_result"
    }
   ],
   "source": [
    "#Merging the three factors to analysize in a single dataframe\n",
    "data=pd.merge(data_amt,data_freq,on='CustomerID',how='inner')\n",
    "data.head()"
   ]
  },
  {
   "cell_type": "code",
   "execution_count": 28,
   "metadata": {
    "colab": {
     "base_uri": "https://localhost:8080/",
     "height": 206
    },
    "id": "b43Igo9KG9Pi",
    "outputId": "e2b2e03e-ac39-4ecf-cf15-ad8214c8cbcd"
   },
   "outputs": [
    {
     "data": {
      "text/html": [
       "<div>\n",
       "<style scoped>\n",
       "    .dataframe tbody tr th:only-of-type {\n",
       "        vertical-align: middle;\n",
       "    }\n",
       "\n",
       "    .dataframe tbody tr th {\n",
       "        vertical-align: top;\n",
       "    }\n",
       "\n",
       "    .dataframe thead th {\n",
       "        text-align: right;\n",
       "    }\n",
       "</style>\n",
       "<table border=\"1\" class=\"dataframe\">\n",
       "  <thead>\n",
       "    <tr style=\"text-align: right;\">\n",
       "      <th></th>\n",
       "      <th>CustomerID</th>\n",
       "      <th>tot_amt</th>\n",
       "      <th>no_of_trans</th>\n",
       "      <th>days_since_last_trans</th>\n",
       "    </tr>\n",
       "  </thead>\n",
       "  <tbody>\n",
       "    <tr>\n",
       "      <th>0</th>\n",
       "      <td>12346.0</td>\n",
       "      <td>0.00</td>\n",
       "      <td>2</td>\n",
       "      <td>325</td>\n",
       "    </tr>\n",
       "    <tr>\n",
       "      <th>1</th>\n",
       "      <td>12347.0</td>\n",
       "      <td>4310.00</td>\n",
       "      <td>182</td>\n",
       "      <td>1</td>\n",
       "    </tr>\n",
       "    <tr>\n",
       "      <th>2</th>\n",
       "      <td>12348.0</td>\n",
       "      <td>1797.24</td>\n",
       "      <td>31</td>\n",
       "      <td>74</td>\n",
       "    </tr>\n",
       "    <tr>\n",
       "      <th>3</th>\n",
       "      <td>12349.0</td>\n",
       "      <td>1757.55</td>\n",
       "      <td>73</td>\n",
       "      <td>18</td>\n",
       "    </tr>\n",
       "    <tr>\n",
       "      <th>4</th>\n",
       "      <td>12350.0</td>\n",
       "      <td>334.40</td>\n",
       "      <td>17</td>\n",
       "      <td>309</td>\n",
       "    </tr>\n",
       "  </tbody>\n",
       "</table>\n",
       "</div>"
      ],
      "text/plain": [
       "  CustomerID  tot_amt  no_of_trans  days_since_last_trans\n",
       "0    12346.0     0.00            2                    325\n",
       "1    12347.0  4310.00          182                      1\n",
       "2    12348.0  1797.24           31                     74\n",
       "3    12349.0  1757.55           73                     18\n",
       "4    12350.0   334.40           17                    309"
      ]
     },
     "execution_count": 28,
     "metadata": {},
     "output_type": "execute_result"
    }
   ],
   "source": [
    "data=pd.merge(data,data_rec,on='CustomerID',how='inner')\n",
    "data.head()"
   ]
  },
  {
   "cell_type": "code",
   "execution_count": 29,
   "metadata": {
    "colab": {
     "base_uri": "https://localhost:8080/",
     "height": 405
    },
    "id": "nGFaaBGeJIgY",
    "outputId": "58c535b0-6f6e-4871-dffa-d3d496e90745"
   },
   "outputs": [
    {
     "data": {
      "text/plain": [
       "<AxesSubplot:xlabel='Factors', ylabel='Range'>"
      ]
     },
     "execution_count": 29,
     "metadata": {},
     "output_type": "execute_result"
    },
    {
     "data": {
      "image/png": "[encoded data removed]",
      "text/plain": [
       "<Figure size 1000x400 with 1 Axes>"
      ]
     },
     "metadata": {},
     "output_type": "display_data"
    }
   ],
   "source": [
    "#Outlier analysis\n",
    "plt.figure(figsize=(10,4))\n",
    "att=['tot_amt','no_of_trans','days_since_last_trans']\n",
    "plt.xlabel('Factors',fontweight='bold')\n",
    "plt.ylabel('Range',fontweight='bold')\n",
    "sns.boxplot(data=data[att])"
   ]
  },
  {
   "cell_type": "code",
   "execution_count": 30,
   "metadata": {
    "colab": {
     "base_uri": "https://localhost:8080/"
    },
    "id": "vVF6Q6jOJgnu",
    "outputId": "bf57fd1c-2077-43c6-b7f2-847eb6f25c8e"
   },
   "outputs": [
    {
     "name": "stdout",
     "output_type": "stream",
     "text": [
      "<class 'pandas.core.frame.DataFrame'>\n",
      "Int64Index: 4372 entries, 0 to 4371\n",
      "Data columns (total 4 columns):\n",
      " #   Column                 Non-Null Count  Dtype  \n",
      "---  ------                 --------------  -----  \n",
      " 0   CustomerID             4372 non-null   object \n",
      " 1   tot_amt                4372 non-null   float64\n",
      " 2   no_of_trans            4372 non-null   int64  \n",
      " 3   days_since_last_trans  4372 non-null   int64  \n",
      "dtypes: float64(1), int64(2), object(1)\n",
      "memory usage: 170.8+ KB\n"
     ]
    }
   ],
   "source": [
    "data.info()"
   ]
  },
  {
   "cell_type": "code",
   "execution_count": 31,
   "metadata": {
    "colab": {
     "base_uri": "https://localhost:8080/"
    },
    "id": "BeCnHZADVrxG",
    "outputId": "48d60157-5e92-4c73-838f-ff132fe7167e"
   },
   "outputs": [
    {
     "name": "stdout",
     "output_type": "stream",
     "text": [
      "<class 'pandas.core.frame.DataFrame'>\n",
      "Int64Index: 4313 entries, 0 to 4371\n",
      "Data columns (total 4 columns):\n",
      " #   Column                 Non-Null Count  Dtype  \n",
      "---  ------                 --------------  -----  \n",
      " 0   CustomerID             4313 non-null   object \n",
      " 1   tot_amt                4313 non-null   float64\n",
      " 2   no_of_trans            4313 non-null   int64  \n",
      " 3   days_since_last_trans  4313 non-null   int64  \n",
      "dtypes: float64(1), int64(2), object(1)\n",
      "memory usage: 168.5+ KB\n"
     ]
    }
   ],
   "source": [
    "#Outlier removal from amount and frequency only\n",
    "q1amt=data['tot_amt'].quantile(0.05)\n",
    "q3amt=data['tot_amt'].quantile(0.95)\n",
    "iqramt=q3amt-q1amt\n",
    "data=data[(data['tot_amt']>=q1amt-1.5*iqramt)&(data['tot_amt']<=q3amt+1.5*iqramt)]\n",
    "data.info()"
   ]
  },
  {
   "cell_type": "code",
   "execution_count": 32,
   "metadata": {
    "colab": {
     "base_uri": "https://localhost:8080/"
    },
    "id": "uY2HxCl1W0FY",
    "outputId": "68783156-45be-4273-b629-2b486df4c586"
   },
   "outputs": [
    {
     "name": "stdout",
     "output_type": "stream",
     "text": [
      "<class 'pandas.core.frame.DataFrame'>\n",
      "Int64Index: 4293 entries, 0 to 4371\n",
      "Data columns (total 4 columns):\n",
      " #   Column                 Non-Null Count  Dtype  \n",
      "---  ------                 --------------  -----  \n",
      " 0   CustomerID             4293 non-null   object \n",
      " 1   tot_amt                4293 non-null   float64\n",
      " 2   no_of_trans            4293 non-null   int64  \n",
      " 3   days_since_last_trans  4293 non-null   int64  \n",
      "dtypes: float64(1), int64(2), object(1)\n",
      "memory usage: 167.7+ KB\n"
     ]
    }
   ],
   "source": [
    "q1freq=data['no_of_trans'].quantile(0.05)\n",
    "q3freq=data['no_of_trans'].quantile(0.95)\n",
    "iqrfreq=q3freq-q1freq\n",
    "data=data[(data['no_of_trans']>=q1freq-1.5*iqrfreq)&(data['no_of_trans']<=q3freq+1.5*iqrfreq)]\n",
    "data.info()"
   ]
  },
  {
   "cell_type": "code",
   "execution_count": 33,
   "metadata": {
    "id": "47D-HgviZWng"
   },
   "outputs": [],
   "source": [
    "from sklearn.preprocessing import StandardScaler\n",
    "sc=StandardScaler()"
   ]
  },
  {
   "cell_type": "code",
   "execution_count": 37,
   "metadata": {
    "id": "2D2HU36xZ7MI"
   },
   "outputs": [],
   "source": [
    "scaled_data=sc.fit_transform(np.array(data['tot_amt']).reshape(-1,1))"
   ]
  },
  {
   "cell_type": "code",
   "execution_count": 39,
   "metadata": {
    "id": "gQp1rEjycAsR"
   },
   "outputs": [],
   "source": [
    "scaled_data=pd.DataFrame(scaled_data)"
   ]
  },
  {
   "cell_type": "code",
   "execution_count": 40,
   "metadata": {
    "id": "IjdKYA5zcKtC"
   },
   "outputs": [],
   "source": [
    "scaled_data['no_of_trans']=sc.fit_transform(np.array(data['no_of_trans']).reshape(-1,1))"
   ]
  },
  {
   "cell_type": "code",
   "execution_count": 41,
   "metadata": {
    "id": "l9b8yw_4cZKW"
   },
   "outputs": [],
   "source": [
    "scaled_data['days_since_last_trans']=sc.fit_transform(np.array(data['days_since_last_trans']).reshape(-1,1))"
   ]
  },
  {
   "cell_type": "code",
   "execution_count": 42,
   "metadata": {
    "colab": {
     "base_uri": "https://localhost:8080/",
     "height": 206
    },
    "id": "JLhJBg3Uc4A1",
    "outputId": "8a708fa9-4ff6-4bbc-e32f-579137396bbf"
   },
   "outputs": [
    {
     "data": {
      "text/html": [
       "<div>\n",
       "<style scoped>\n",
       "    .dataframe tbody tr th:only-of-type {\n",
       "        vertical-align: middle;\n",
       "    }\n",
       "\n",
       "    .dataframe tbody tr th {\n",
       "        vertical-align: top;\n",
       "    }\n",
       "\n",
       "    .dataframe thead th {\n",
       "        text-align: right;\n",
       "    }\n",
       "</style>\n",
       "<table border=\"1\" class=\"dataframe\">\n",
       "  <thead>\n",
       "    <tr style=\"text-align: right;\">\n",
       "      <th></th>\n",
       "      <th>0</th>\n",
       "      <th>no_of_trans</th>\n",
       "      <th>days_since_last_trans</th>\n",
       "    </tr>\n",
       "  </thead>\n",
       "  <tbody>\n",
       "    <tr>\n",
       "      <th>0</th>\n",
       "      <td>-0.723738</td>\n",
       "      <td>-0.752888</td>\n",
       "      <td>2.301611</td>\n",
       "    </tr>\n",
       "    <tr>\n",
       "      <th>1</th>\n",
       "      <td>1.731617</td>\n",
       "      <td>1.042467</td>\n",
       "      <td>-0.906466</td>\n",
       "    </tr>\n",
       "    <tr>\n",
       "      <th>2</th>\n",
       "      <td>0.300128</td>\n",
       "      <td>-0.463636</td>\n",
       "      <td>-0.183658</td>\n",
       "    </tr>\n",
       "    <tr>\n",
       "      <th>3</th>\n",
       "      <td>0.277517</td>\n",
       "      <td>-0.044720</td>\n",
       "      <td>-0.738141</td>\n",
       "    </tr>\n",
       "    <tr>\n",
       "      <th>4</th>\n",
       "      <td>-0.533235</td>\n",
       "      <td>-0.603275</td>\n",
       "      <td>2.143188</td>\n",
       "    </tr>\n",
       "  </tbody>\n",
       "</table>\n",
       "</div>"
      ],
      "text/plain": [
       "          0  no_of_trans  days_since_last_trans\n",
       "0 -0.723738    -0.752888               2.301611\n",
       "1  1.731617     1.042467              -0.906466\n",
       "2  0.300128    -0.463636              -0.183658\n",
       "3  0.277517    -0.044720              -0.738141\n",
       "4 -0.533235    -0.603275               2.143188"
      ]
     },
     "execution_count": 42,
     "metadata": {},
     "output_type": "execute_result"
    }
   ],
   "source": [
    "scaled_data.head()"
   ]
  },
  {
   "cell_type": "code",
   "execution_count": 43,
   "metadata": {
    "colab": {
     "base_uri": "https://localhost:8080/",
     "height": 206
    },
    "id": "VGz7EEQjc9AY",
    "outputId": "657ddc68-ac8c-4fb0-b82a-e504c18d3693"
   },
   "outputs": [
    {
     "data": {
      "text/html": [
       "<div>\n",
       "<style scoped>\n",
       "    .dataframe tbody tr th:only-of-type {\n",
       "        vertical-align: middle;\n",
       "    }\n",
       "\n",
       "    .dataframe tbody tr th {\n",
       "        vertical-align: top;\n",
       "    }\n",
       "\n",
       "    .dataframe thead th {\n",
       "        text-align: right;\n",
       "    }\n",
       "</style>\n",
       "<table border=\"1\" class=\"dataframe\">\n",
       "  <thead>\n",
       "    <tr style=\"text-align: right;\">\n",
       "      <th></th>\n",
       "      <th>tot_amt</th>\n",
       "      <th>no_of_trans</th>\n",
       "      <th>days_since_last_trans</th>\n",
       "    </tr>\n",
       "  </thead>\n",
       "  <tbody>\n",
       "    <tr>\n",
       "      <th>0</th>\n",
       "      <td>-0.723738</td>\n",
       "      <td>-0.752888</td>\n",
       "      <td>2.301611</td>\n",
       "    </tr>\n",
       "    <tr>\n",
       "      <th>1</th>\n",
       "      <td>1.731617</td>\n",
       "      <td>1.042467</td>\n",
       "      <td>-0.906466</td>\n",
       "    </tr>\n",
       "    <tr>\n",
       "      <th>2</th>\n",
       "      <td>0.300128</td>\n",
       "      <td>-0.463636</td>\n",
       "      <td>-0.183658</td>\n",
       "    </tr>\n",
       "    <tr>\n",
       "      <th>3</th>\n",
       "      <td>0.277517</td>\n",
       "      <td>-0.044720</td>\n",
       "      <td>-0.738141</td>\n",
       "    </tr>\n",
       "    <tr>\n",
       "      <th>4</th>\n",
       "      <td>-0.533235</td>\n",
       "      <td>-0.603275</td>\n",
       "      <td>2.143188</td>\n",
       "    </tr>\n",
       "  </tbody>\n",
       "</table>\n",
       "</div>"
      ],
      "text/plain": [
       "    tot_amt  no_of_trans  days_since_last_trans\n",
       "0 -0.723738    -0.752888               2.301611\n",
       "1  1.731617     1.042467              -0.906466\n",
       "2  0.300128    -0.463636              -0.183658\n",
       "3  0.277517    -0.044720              -0.738141\n",
       "4 -0.533235    -0.603275               2.143188"
      ]
     },
     "execution_count": 43,
     "metadata": {},
     "output_type": "execute_result"
    }
   ],
   "source": [
    "scaled_data.rename(columns={0:'tot_amt'},inplace=True)\n",
    "scaled_data.head()"
   ]
  },
  {
   "cell_type": "code",
   "execution_count": 44,
   "metadata": {
    "colab": {
     "base_uri": "https://localhost:8080/"
    },
    "id": "lAZmTlvAddOd",
    "outputId": "e6070e81-3fd3-4a3b-e17d-0fb49fdd61c2"
   },
   "outputs": [
    {
     "data": {
      "text/plain": [
       "(4293, 3)"
      ]
     },
     "execution_count": 44,
     "metadata": {},
     "output_type": "execute_result"
    }
   ],
   "source": [
    "scaled_data.shape"
   ]
  },
  {
   "cell_type": "code",
   "execution_count": 48,
   "metadata": {
    "colab": {
     "base_uri": "https://localhost:8080/",
     "height": 703
    },
    "id": "piieWwxDdnFm",
    "outputId": "b79a2717-58aa-4e14-ecd8-7c694f151123"
   },
   "outputs": [
    {
     "data": {
      "text/plain": [
       "Text(0, 0.5, 'WCSS')"
      ]
     },
     "execution_count": 48,
     "metadata": {},
     "output_type": "execute_result"
    },
    {
     "data": {
      "image/png": "[encoded data removed]",
      "text/plain": [
       "<Figure size 600x400 with 1 Axes>"
      ]
     },
     "metadata": {},
     "output_type": "display_data"
    }
   ],
   "source": [
    "#Selecting ideal K-value using Elbow method\n",
    "from sklearn.cluster import KMeans\n",
    "wcss=[]\n",
    "\n",
    "for i in range(2,10):\n",
    "  kmeans=KMeans(n_clusters=i,max_iter=300)\n",
    "  kmeans.fit(scaled_data)\n",
    "  wcss.append(kmeans.inertia_)\n",
    "\n",
    "plt.figure(figsize=(6,4))\n",
    "plt.plot(range(2,10),wcss,color='blue')\n",
    "plt.xticks(range(2,10))\n",
    "plt.xlabel('K-value')\n",
    "plt.ylabel('WCSS')"
   ]
  },
  {
   "cell_type": "code",
   "execution_count": null,
   "metadata": {
    "id": "I_ALnOVRfv8c"
   },
   "outputs": [],
   "source": [
    "#From the Elbow method it is clear that optimum value for clusters is 3, also we intend to group the customers on amount, frequency and recency"
   ]
  },
  {
   "cell_type": "code",
   "execution_count": 49,
   "metadata": {
    "colab": {
     "base_uri": "https://localhost:8080/",
     "height": 1000
    },
    "id": "D1AtVRkigJhn",
    "outputId": "325c4af5-4153-474e-a6b3-682e2054080e"
   },
   "outputs": [
    {
     "name": "stdout",
     "output_type": "stream",
     "text": [
      "Initialization complete\n",
      "Iteration 0, inertia 5221.834255381273\n",
      "Iteration 1, inertia 4461.350201182718\n",
      "Iteration 2, inertia 4437.837330122571\n",
      "Iteration 3, inertia 4435.091747641147\n",
      "Iteration 4, inertia 4434.495027349316\n",
      "Iteration 5, inertia 4434.134880691717\n",
      "Iteration 6, inertia 4433.797164770988\n",
      "Converged at iteration 6: center shift 4.719661588674059e-05 within tolerance 9.999999999999983e-05.\n",
      "Initialization complete\n",
      "Iteration 0, inertia 7340.15050419667\n",
      "Iteration 1, inertia 6249.540353929937\n",
      "Iteration 2, inertia 5898.386075763827\n",
      "Iteration 3, inertia 5634.193185129349\n",
      "Iteration 4, inertia 5101.844367293927\n",
      "Iteration 5, inertia 4618.724810836771\n",
      "Iteration 6, inertia 4472.233122549951\n",
      "Iteration 7, inertia 4441.116804915799\n",
      "Iteration 8, inertia 4436.096661668751\n",
      "Iteration 9, inertia 4434.8637441076735\n",
      "Iteration 10, inertia 4434.308932388541\n",
      "Iteration 11, inertia 4433.935730822936\n",
      "Iteration 12, inertia 4433.7726405861895\n",
      "Converged at iteration 12: center shift 5.04938499240716e-05 within tolerance 9.999999999999983e-05.\n",
      "Initialization complete\n",
      "Iteration 0, inertia 7085.632640003865\n",
      "Iteration 1, inertia 4907.942860930286\n",
      "Iteration 2, inertia 4593.437012427655\n",
      "Iteration 3, inertia 4491.271679836462\n",
      "Iteration 4, inertia 4461.029666884525\n",
      "Iteration 5, inertia 4447.643147530798\n",
      "Iteration 6, inertia 4438.704663717222\n",
      "Iteration 7, inertia 4434.19418675154\n",
      "Iteration 8, inertia 4433.653255042769\n",
      "Converged at iteration 8: center shift 9.686118799688047e-05 within tolerance 9.999999999999983e-05.\n",
      "Initialization complete\n",
      "Iteration 0, inertia 6306.8876345545905\n",
      "Iteration 1, inertia 4622.413958383412\n",
      "Iteration 2, inertia 4471.340571726024\n",
      "Iteration 3, inertia 4440.263156479826\n",
      "Iteration 4, inertia 4435.983878605888\n",
      "Iteration 5, inertia 4434.964160925823\n",
      "Iteration 6, inertia 4434.492109031927\n",
      "Iteration 7, inertia 4434.134880691717\n",
      "Iteration 8, inertia 4433.797164770988\n",
      "Converged at iteration 8: center shift 4.719661588674068e-05 within tolerance 9.999999999999983e-05.\n",
      "Initialization complete\n",
      "Iteration 0, inertia 8740.454636889548\n",
      "Iteration 1, inertia 6401.2492409005945\n",
      "Iteration 2, inertia 4740.662156526141\n",
      "Iteration 3, inertia 4452.962874787167\n",
      "Iteration 4, inertia 4438.26359092424\n",
      "Iteration 5, inertia 4435.532478901754\n",
      "Iteration 6, inertia 4434.652158686785\n",
      "Iteration 7, inertia 4434.229849028854\n",
      "Iteration 8, inertia 4433.797164770988\n",
      "Converged at iteration 8: center shift 4.7196615886744104e-05 within tolerance 9.999999999999983e-05.\n",
      "Initialization complete\n",
      "Iteration 0, inertia 6410.581073650726\n",
      "Iteration 1, inertia 4661.138239699058\n",
      "Iteration 2, inertia 4474.6827334182235\n",
      "Iteration 3, inertia 4440.790026092044\n",
      "Iteration 4, inertia 4435.986771838302\n",
      "Iteration 5, inertia 4434.779961949678\n",
      "Iteration 6, inertia 4434.229849028854\n",
      "Iteration 7, inertia 4433.797164770988\n",
      "Converged at iteration 7: center shift 4.719661588674068e-05 within tolerance 9.999999999999983e-05.\n",
      "Initialization complete\n",
      "Iteration 0, inertia 8414.185872576058\n",
      "Iteration 1, inertia 6341.061521647947\n",
      "Iteration 2, inertia 6197.140817490841\n",
      "Iteration 3, inertia 6128.397807245961\n",
      "Iteration 4, inertia 6076.043754101378\n",
      "Iteration 5, inertia 6023.150012158688\n",
      "Iteration 6, inertia 5970.024916000502\n",
      "Iteration 7, inertia 5881.473663035262\n",
      "Iteration 8, inertia 5702.311674763039\n",
      "Iteration 9, inertia 5245.634836349541\n",
      "Iteration 10, inertia 4714.147831071838\n",
      "Iteration 11, inertia 4502.622984006325\n",
      "Iteration 12, inertia 4448.668375870082\n",
      "Iteration 13, inertia 4437.949631795525\n",
      "Iteration 14, inertia 4435.323047506903\n",
      "Iteration 15, inertia 4434.6447072770725\n",
      "Iteration 16, inertia 4434.229849028854\n",
      "Iteration 17, inertia 4433.797164770988\n",
      "Converged at iteration 17: center shift 4.719661588674423e-05 within tolerance 9.999999999999983e-05.\n",
      "Initialization complete\n",
      "Iteration 0, inertia 6106.326007279464\n",
      "Iteration 1, inertia 4620.2753618280885\n",
      "Iteration 2, inertia 4502.178817992955\n",
      "Iteration 3, inertia 4464.971408657638\n",
      "Iteration 4, inertia 4450.895021950339\n",
      "Iteration 5, inertia 4441.220232516263\n",
      "Iteration 6, inertia 4434.932562100479\n",
      "Iteration 7, inertia 4433.700757716173\n",
      "Iteration 8, inertia 4433.586805811539\n",
      "Converged at iteration 8: center shift 1.0836323974158567e-05 within tolerance 9.999999999999983e-05.\n",
      "Initialization complete\n",
      "Iteration 0, inertia 5483.700578540911\n",
      "Iteration 1, inertia 4583.578414899378\n",
      "Iteration 2, inertia 4473.293453671642\n",
      "Iteration 3, inertia 4443.4871255291055\n",
      "Iteration 4, inertia 4436.823127254176\n",
      "Iteration 5, inertia 4435.051272455443\n",
      "Iteration 6, inertia 4434.563135664439\n",
      "Iteration 7, inertia 4434.134880691717\n",
      "Iteration 8, inertia 4433.797164770988\n",
      "Converged at iteration 8: center shift 4.719661588674401e-05 within tolerance 9.999999999999983e-05.\n",
      "Initialization complete\n",
      "Iteration 0, inertia 6496.726700467624\n",
      "Iteration 1, inertia 4930.688083989043\n",
      "Iteration 2, inertia 4612.242037377615\n",
      "Iteration 3, inertia 4498.577976243506\n",
      "Iteration 4, inertia 4450.790820147215\n",
      "Iteration 5, inertia 4437.908203439795\n",
      "Iteration 6, inertia 4435.207351906678\n",
      "Iteration 7, inertia 4434.644707277072\n",
      "Iteration 8, inertia 4434.229849028854\n",
      "Iteration 9, inertia 4433.797164770988\n",
      "Converged at iteration 9: center shift 4.719661588674415e-05 within tolerance 9.999999999999983e-05.\n"
     ]
    },
    {
     "data": {
      "text/plain": [
       "KMeans(n_clusters=3, verbose=2)"
      ]
     },
     "execution_count": 49,
     "metadata": {},
     "output_type": "execute_result"
    }
   ],
   "source": [
    "km3 = KMeans(algorithm='auto', copy_x=True, init='k-means++', max_iter=300,\n",
    "       n_clusters=3, n_init=10, random_state=None, tol=0.0001, verbose=2)\n",
    "km3.fit(scaled_data)"
   ]
  },
  {
   "cell_type": "code",
   "execution_count": 50,
   "metadata": {
    "colab": {
     "base_uri": "https://localhost:8080/"
    },
    "id": "PFs2lgs4gr7U",
    "outputId": "86f2e5ca-65aa-40d2-9019-12756cb1b4f0"
   },
   "outputs": [
    {
     "name": "stdout",
     "output_type": "stream",
     "text": [
      "Initialization complete\n",
      "Iteration 0, inertia 7518.634037181122\n",
      "Iteration 1, inertia 5234.311264439704\n",
      "Iteration 2, inertia 4688.135688157093\n",
      "Iteration 3, inertia 4521.217786280696\n",
      "Iteration 4, inertia 4464.910810100586\n",
      "Iteration 5, inertia 4440.873545056489\n",
      "Iteration 6, inertia 4436.367166866445\n",
      "Iteration 7, inertia 4434.964160925823\n",
      "Iteration 8, inertia 4434.492109031927\n",
      "Iteration 9, inertia 4434.134880691717\n",
      "Iteration 10, inertia 4433.797164770988\n",
      "Converged at iteration 10: center shift 4.71966158867406e-05 within tolerance 9.999999999999983e-05.\n",
      "Initialization complete\n",
      "Iteration 0, inertia 8194.023362228647\n",
      "Iteration 1, inertia 4737.140723696231\n",
      "Iteration 2, inertia 4521.022894737653\n",
      "Iteration 3, inertia 4470.513675981642\n",
      "Iteration 4, inertia 4452.452209946313\n",
      "Iteration 5, inertia 4442.458117818536\n",
      "Iteration 6, inertia 4435.410751127954\n",
      "Iteration 7, inertia 4433.709421115371\n",
      "Iteration 8, inertia 4433.586805811539\n",
      "Converged at iteration 8: center shift 1.083632397415639e-05 within tolerance 9.999999999999983e-05.\n",
      "Initialization complete\n",
      "Iteration 0, inertia 6985.260819206927\n",
      "Iteration 1, inertia 4795.443931910441\n",
      "Iteration 2, inertia 4571.022310678526\n",
      "Iteration 3, inertia 4486.2073800023345\n",
      "Iteration 4, inertia 4459.367600373006\n",
      "Iteration 5, inertia 4446.448992873999\n",
      "Iteration 6, inertia 4437.921128932215\n",
      "Iteration 7, inertia 4434.098642518189\n",
      "Iteration 8, inertia 4433.625813781671\n",
      "Converged at iteration 8: center shift 4.8771239936412214e-05 within tolerance 9.999999999999983e-05.\n",
      "Initialization complete\n",
      "Iteration 0, inertia 7512.240759862275\n",
      "Iteration 1, inertia 5593.728802475469\n",
      "Iteration 2, inertia 4831.6514836958595\n",
      "Iteration 3, inertia 4500.525129536494\n",
      "Iteration 4, inertia 4444.665195640539\n",
      "Iteration 5, inertia 4436.457064209877\n",
      "Iteration 6, inertia 4434.988823729664\n",
      "Iteration 7, inertia 4434.229849028854\n",
      "Iteration 8, inertia 4433.797164770988\n",
      "Converged at iteration 8: center shift 4.719661588674078e-05 within tolerance 9.999999999999983e-05.\n",
      "Initialization complete\n",
      "Iteration 0, inertia 6261.767469576229\n",
      "Iteration 1, inertia 4691.02843746296\n",
      "Iteration 2, inertia 4533.729345048096\n",
      "Iteration 3, inertia 4474.925594157978\n",
      "Iteration 4, inertia 4454.738977060629\n",
      "Iteration 5, inertia 4445.187397833506\n",
      "Iteration 6, inertia 4437.202990281065\n",
      "Iteration 7, inertia 4433.908322547473\n",
      "Iteration 8, inertia 4433.625813781671\n",
      "Converged at iteration 8: center shift 4.8771239936412214e-05 within tolerance 9.999999999999983e-05.\n",
      "Initialization complete\n",
      "Iteration 0, inertia 4961.3911983237485\n",
      "Iteration 1, inertia 4536.604320435519\n",
      "Iteration 2, inertia 4471.88951758853\n",
      "Iteration 3, inertia 4443.510570478962\n",
      "Iteration 4, inertia 4436.918779558394\n",
      "Iteration 5, inertia 4435.051272455443\n",
      "Iteration 6, inertia 4434.563135664439\n",
      "Iteration 7, inertia 4434.134880691717\n",
      "Iteration 8, inertia 4433.797164770988\n",
      "Converged at iteration 8: center shift 4.719661588674078e-05 within tolerance 9.999999999999983e-05.\n",
      "Initialization complete\n",
      "Iteration 0, inertia 9419.77195109395\n",
      "Iteration 1, inertia 6411.280985566413\n",
      "Iteration 2, inertia 6277.140041957216\n",
      "Iteration 3, inertia 6183.2021049041505\n",
      "Iteration 4, inertia 6130.24960926748\n",
      "Iteration 5, inertia 6079.904121855213\n",
      "Iteration 6, inertia 6029.318644252542\n",
      "Iteration 7, inertia 5978.718996466725\n",
      "Iteration 8, inertia 5897.482033955332\n",
      "Iteration 9, inertia 5736.569217840209\n",
      "Iteration 10, inertia 5329.631340231685\n",
      "Iteration 11, inertia 4781.441347133394\n",
      "Iteration 12, inertia 4517.0940277267055\n",
      "Iteration 13, inertia 4451.120329383766\n",
      "Iteration 14, inertia 4438.21676233649\n",
      "Iteration 15, inertia 4435.487713535444\n",
      "Iteration 16, inertia 4434.6447072770725\n",
      "Iteration 17, inertia 4434.229849028854\n",
      "Iteration 18, inertia 4433.797164770988\n",
      "Converged at iteration 18: center shift 4.71966158867406e-05 within tolerance 9.999999999999983e-05.\n",
      "Initialization complete\n",
      "Iteration 0, inertia 7612.297107037108\n",
      "Iteration 1, inertia 6849.431932569883\n",
      "Iteration 2, inertia 6592.416586572035\n",
      "Iteration 3, inertia 6412.298204322395\n",
      "Iteration 4, inertia 6275.097935116224\n",
      "Iteration 5, inertia 6183.1183590540395\n",
      "Iteration 6, inertia 6121.160936498288\n",
      "Iteration 7, inertia 6070.328178416485\n",
      "Iteration 8, inertia 6019.703843296081\n",
      "Iteration 9, inertia 5960.809417460942\n",
      "Iteration 10, inertia 5867.0697838235665\n",
      "Iteration 11, inertia 5660.446827559355\n",
      "Iteration 12, inertia 5175.259112162116\n",
      "Iteration 13, inertia 4669.191343796466\n",
      "Iteration 14, inertia 4490.812804468939\n",
      "Iteration 15, inertia 4445.094520391558\n",
      "Iteration 16, inertia 4437.213439041937\n",
      "Iteration 17, inertia 4435.2859044988445\n",
      "Iteration 18, inertia 4434.644707277072\n",
      "Iteration 19, inertia 4434.229849028854\n",
      "Iteration 20, inertia 4433.797164770988\n",
      "Converged at iteration 20: center shift 4.719661588674068e-05 within tolerance 9.999999999999983e-05.\n",
      "Initialization complete\n",
      "Iteration 0, inertia 7856.15819370762\n",
      "Iteration 1, inertia 6005.908744996569\n",
      "Iteration 2, inertia 5750.171963960493\n",
      "Iteration 3, inertia 5323.256022440848\n",
      "Iteration 4, inertia 4785.168348338493\n",
      "Iteration 5, inertia 4524.849402130309\n",
      "Iteration 6, inertia 4453.715903789334\n",
      "Iteration 7, inertia 4438.216762336491\n",
      "Iteration 8, inertia 4435.487713535444\n",
      "Iteration 9, inertia 4434.644707277072\n",
      "Iteration 10, inertia 4434.229849028854\n",
      "Iteration 11, inertia 4433.797164770988\n",
      "Converged at iteration 11: center shift 4.7196615886739984e-05 within tolerance 9.999999999999983e-05.\n",
      "Initialization complete\n",
      "Iteration 0, inertia 8568.36734738143\n",
      "Iteration 1, inertia 4513.783177802531\n",
      "Iteration 2, inertia 4446.097057930108\n",
      "Iteration 3, inertia 4436.720267096187\n",
      "Iteration 4, inertia 4435.051801772954\n",
      "Iteration 5, inertia 4434.563135664439\n",
      "Iteration 6, inertia 4434.134880691717\n",
      "Iteration 7, inertia 4433.797164770988\n",
      "Converged at iteration 7: center shift 4.719661588674419e-05 within tolerance 9.999999999999983e-05.\n"
     ]
    }
   ],
   "source": [
    "y=km3.fit_predict(scaled_data)"
   ]
  },
  {
   "cell_type": "code",
   "execution_count": null,
   "metadata": {
    "colab": {
     "base_uri": "https://localhost:8080/"
    },
    "id": "cbNz_5kzg1jg",
    "outputId": "bd44f11b-d5cb-45d6-9b3a-7e6150a7193d"
   },
   "outputs": [
    {
     "data": {
      "text/plain": [
       "array([2, 1, 0, ..., 2, 0, 0], dtype=int32)"
      ]
     },
     "execution_count": 127,
     "metadata": {},
     "output_type": "execute_result"
    }
   ],
   "source": [
    "y"
   ]
  },
  {
   "cell_type": "code",
   "execution_count": 51,
   "metadata": {
    "colab": {
     "base_uri": "https://localhost:8080/",
     "height": 206
    },
    "id": "LVN_nb21g8-r",
    "outputId": "46995cd5-1e60-4568-e97d-8040e28d8294"
   },
   "outputs": [
    {
     "data": {
      "text/html": [
       "<div>\n",
       "<style scoped>\n",
       "    .dataframe tbody tr th:only-of-type {\n",
       "        vertical-align: middle;\n",
       "    }\n",
       "\n",
       "    .dataframe tbody tr th {\n",
       "        vertical-align: top;\n",
       "    }\n",
       "\n",
       "    .dataframe thead th {\n",
       "        text-align: right;\n",
       "    }\n",
       "</style>\n",
       "<table border=\"1\" class=\"dataframe\">\n",
       "  <thead>\n",
       "    <tr style=\"text-align: right;\">\n",
       "      <th></th>\n",
       "      <th>tot_amt</th>\n",
       "      <th>no_of_trans</th>\n",
       "      <th>days_since_last_trans</th>\n",
       "      <th>label</th>\n",
       "      <th>CustomerID</th>\n",
       "    </tr>\n",
       "  </thead>\n",
       "  <tbody>\n",
       "    <tr>\n",
       "      <th>0</th>\n",
       "      <td>-0.723738</td>\n",
       "      <td>-0.752888</td>\n",
       "      <td>2.301611</td>\n",
       "      <td>1</td>\n",
       "      <td>12346.0</td>\n",
       "    </tr>\n",
       "    <tr>\n",
       "      <th>1</th>\n",
       "      <td>1.731617</td>\n",
       "      <td>1.042467</td>\n",
       "      <td>-0.906466</td>\n",
       "      <td>0</td>\n",
       "      <td>12347.0</td>\n",
       "    </tr>\n",
       "    <tr>\n",
       "      <th>2</th>\n",
       "      <td>0.300128</td>\n",
       "      <td>-0.463636</td>\n",
       "      <td>-0.183658</td>\n",
       "      <td>2</td>\n",
       "      <td>12348.0</td>\n",
       "    </tr>\n",
       "    <tr>\n",
       "      <th>3</th>\n",
       "      <td>0.277517</td>\n",
       "      <td>-0.044720</td>\n",
       "      <td>-0.738141</td>\n",
       "      <td>2</td>\n",
       "      <td>12349.0</td>\n",
       "    </tr>\n",
       "    <tr>\n",
       "      <th>4</th>\n",
       "      <td>-0.533235</td>\n",
       "      <td>-0.603275</td>\n",
       "      <td>2.143188</td>\n",
       "      <td>1</td>\n",
       "      <td>12350.0</td>\n",
       "    </tr>\n",
       "  </tbody>\n",
       "</table>\n",
       "</div>"
      ],
      "text/plain": [
       "    tot_amt  no_of_trans  days_since_last_trans  label CustomerID\n",
       "0 -0.723738    -0.752888               2.301611      1    12346.0\n",
       "1  1.731617     1.042467              -0.906466      0    12347.0\n",
       "2  0.300128    -0.463636              -0.183658      2    12348.0\n",
       "3  0.277517    -0.044720              -0.738141      2    12349.0\n",
       "4 -0.533235    -0.603275               2.143188      1    12350.0"
      ]
     },
     "execution_count": 51,
     "metadata": {},
     "output_type": "execute_result"
    }
   ],
   "source": [
    "scaled_data['label']=y\n",
    "scaled_data['CustomerID']=data['CustomerID']\n",
    "scaled_data.head()"
   ]
  },
  {
   "cell_type": "code",
   "execution_count": null,
   "metadata": {
    "id": "1uTt4IeghX1K"
   },
   "outputs": [],
   "source": [
    "#Box plot of Label vs factors"
   ]
  },
  {
   "cell_type": "code",
   "execution_count": 52,
   "metadata": {
    "colab": {
     "base_uri": "https://localhost:8080/",
     "height": 495
    },
    "id": "sTsCOM-phzSw",
    "outputId": "765d3c18-0012-4064-dc43-af4dccdcc543"
   },
   "outputs": [
    {
     "data": {
      "text/plain": [
       "<AxesSubplot:title={'center':'tot_amt'}, xlabel='label'>"
      ]
     },
     "execution_count": 52,
     "metadata": {},
     "output_type": "execute_result"
    },
    {
     "data": {
      "image/png": "[encoded data removed]",
      "text/plain": [
       "<Figure size 640x480 with 1 Axes>"
      ]
     },
     "metadata": {},
     "output_type": "display_data"
    }
   ],
   "source": [
    "scaled_data.boxplot('tot_amt',by='label')"
   ]
  },
  {
   "cell_type": "code",
   "execution_count": null,
   "metadata": {
    "id": "j_17Cr71h7ya"
   },
   "outputs": [],
   "source": [
    "#Customers with label 0 are high transaction doers"
   ]
  },
  {
   "cell_type": "code",
   "execution_count": 53,
   "metadata": {
    "colab": {
     "base_uri": "https://localhost:8080/",
     "height": 495
    },
    "id": "TBb5asVNiQ4R",
    "outputId": "52bf7487-bf13-4ec4-a469-7c86f84031b1"
   },
   "outputs": [
    {
     "data": {
      "text/plain": [
       "<AxesSubplot:title={'center':'days_since_last_trans'}, xlabel='label'>"
      ]
     },
     "execution_count": 53,
     "metadata": {},
     "output_type": "execute_result"
    },
    {
     "data": {
      "image/png": "[encoded data removed]",
      "text/plain": [
       "<Figure size 640x480 with 1 Axes>"
      ]
     },
     "metadata": {},
     "output_type": "display_data"
    }
   ],
   "source": [
    "scaled_data.boxplot('days_since_last_trans',by='label')"
   ]
  },
  {
   "cell_type": "code",
   "execution_count": null,
   "metadata": {
    "id": "yCP8lKq-iVOZ"
   },
   "outputs": [],
   "source": [
    "#Customers with label 1 are recent buyers"
   ]
  },
  {
   "cell_type": "code",
   "execution_count": 54,
   "metadata": {
    "colab": {
     "base_uri": "https://localhost:8080/",
     "height": 495
    },
    "id": "SmCgYw7Yiujq",
    "outputId": "5888dcdd-f950-4310-fabd-206c4dfa3496"
   },
   "outputs": [
    {
     "data": {
      "text/plain": [
       "<AxesSubplot:title={'center':'no_of_trans'}, xlabel='label'>"
      ]
     },
     "execution_count": 54,
     "metadata": {},
     "output_type": "execute_result"
    },
    {
     "data": {
      "image/png": "[encoded data removed]",
      "text/plain": [
       "<Figure size 640x480 with 1 Axes>"
      ]
     },
     "metadata": {},
     "output_type": "display_data"
    }
   ],
   "source": [
    "scaled_data.boxplot('no_of_trans',by='label')"
   ]
  },
  {
   "cell_type": "code",
   "execution_count": null,
   "metadata": {
    "id": "4l7o7YrCizBW"
   },
   "outputs": [],
   "source": [
    "#Customers with label 0 are also frequent buyers"
   ]
  },
  {
   "cell_type": "code",
   "execution_count": 55,
   "metadata": {},
   "outputs": [],
   "source": [
    "df1=pd.read_csv(r'C:\\Users\\DELL\\Desktop\\Capstone\\ONLINE RETAIL\\OnlineRetail.csv',encoding= 'unicode_escape')"
   ]
  },
  {
   "cell_type": "code",
   "execution_count": 56,
   "metadata": {},
   "outputs": [
    {
     "data": {
      "text/html": [
       "<div>\n",
       "<style scoped>\n",
       "    .dataframe tbody tr th:only-of-type {\n",
       "        vertical-align: middle;\n",
       "    }\n",
       "\n",
       "    .dataframe tbody tr th {\n",
       "        vertical-align: top;\n",
       "    }\n",
       "\n",
       "    .dataframe thead th {\n",
       "        text-align: right;\n",
       "    }\n",
       "</style>\n",
       "<table border=\"1\" class=\"dataframe\">\n",
       "  <thead>\n",
       "    <tr style=\"text-align: right;\">\n",
       "      <th></th>\n",
       "      <th>InvoiceNo</th>\n",
       "      <th>StockCode</th>\n",
       "      <th>Description</th>\n",
       "      <th>Quantity</th>\n",
       "      <th>InvoiceDate</th>\n",
       "      <th>UnitPrice</th>\n",
       "      <th>CustomerID</th>\n",
       "      <th>Country</th>\n",
       "    </tr>\n",
       "  </thead>\n",
       "  <tbody>\n",
       "    <tr>\n",
       "      <th>0</th>\n",
       "      <td>536365</td>\n",
       "      <td>85123A</td>\n",
       "      <td>WHITE HANGING HEART T-LIGHT HOLDER</td>\n",
       "      <td>6</td>\n",
       "      <td>12/1/2010 8:26</td>\n",
       "      <td>2.55</td>\n",
       "      <td>17850.0</td>\n",
       "      <td>United Kingdom</td>\n",
       "    </tr>\n",
       "    <tr>\n",
       "      <th>1</th>\n",
       "      <td>536365</td>\n",
       "      <td>71053</td>\n",
       "      <td>WHITE METAL LANTERN</td>\n",
       "      <td>6</td>\n",
       "      <td>12/1/2010 8:26</td>\n",
       "      <td>3.39</td>\n",
       "      <td>17850.0</td>\n",
       "      <td>United Kingdom</td>\n",
       "    </tr>\n",
       "    <tr>\n",
       "      <th>2</th>\n",
       "      <td>536365</td>\n",
       "      <td>84406B</td>\n",
       "      <td>CREAM CUPID HEARTS COAT HANGER</td>\n",
       "      <td>8</td>\n",
       "      <td>12/1/2010 8:26</td>\n",
       "      <td>2.75</td>\n",
       "      <td>17850.0</td>\n",
       "      <td>United Kingdom</td>\n",
       "    </tr>\n",
       "    <tr>\n",
       "      <th>3</th>\n",
       "      <td>536365</td>\n",
       "      <td>84029G</td>\n",
       "      <td>KNITTED UNION FLAG HOT WATER BOTTLE</td>\n",
       "      <td>6</td>\n",
       "      <td>12/1/2010 8:26</td>\n",
       "      <td>3.39</td>\n",
       "      <td>17850.0</td>\n",
       "      <td>United Kingdom</td>\n",
       "    </tr>\n",
       "    <tr>\n",
       "      <th>4</th>\n",
       "      <td>536365</td>\n",
       "      <td>84029E</td>\n",
       "      <td>RED WOOLLY HOTTIE WHITE HEART.</td>\n",
       "      <td>6</td>\n",
       "      <td>12/1/2010 8:26</td>\n",
       "      <td>3.39</td>\n",
       "      <td>17850.0</td>\n",
       "      <td>United Kingdom</td>\n",
       "    </tr>\n",
       "  </tbody>\n",
       "</table>\n",
       "</div>"
      ],
      "text/plain": [
       "  InvoiceNo StockCode                          Description  Quantity  \\\n",
       "0    536365    85123A   WHITE HANGING HEART T-LIGHT HOLDER         6   \n",
       "1    536365     71053                  WHITE METAL LANTERN         6   \n",
       "2    536365    84406B       CREAM CUPID HEARTS COAT HANGER         8   \n",
       "3    536365    84029G  KNITTED UNION FLAG HOT WATER BOTTLE         6   \n",
       "4    536365    84029E       RED WOOLLY HOTTIE WHITE HEART.         6   \n",
       "\n",
       "      InvoiceDate  UnitPrice  CustomerID         Country  \n",
       "0  12/1/2010 8:26       2.55     17850.0  United Kingdom  \n",
       "1  12/1/2010 8:26       3.39     17850.0  United Kingdom  \n",
       "2  12/1/2010 8:26       2.75     17850.0  United Kingdom  \n",
       "3  12/1/2010 8:26       3.39     17850.0  United Kingdom  \n",
       "4  12/1/2010 8:26       3.39     17850.0  United Kingdom  "
      ]
     },
     "execution_count": 56,
     "metadata": {},
     "output_type": "execute_result"
    }
   ],
   "source": [
    "df1.head()"
   ]
  },
  {
   "cell_type": "code",
   "execution_count": 57,
   "metadata": {},
   "outputs": [
    {
     "data": {
      "text/plain": [
       "InvoiceNo           0\n",
       "StockCode           0\n",
       "Description      1454\n",
       "Quantity            0\n",
       "InvoiceDate         0\n",
       "UnitPrice           0\n",
       "CustomerID     135080\n",
       "Country             0\n",
       "dtype: int64"
      ]
     },
     "execution_count": 57,
     "metadata": {},
     "output_type": "execute_result"
    }
   ],
   "source": [
    "df1.isnull().sum()"
   ]
  },
  {
   "cell_type": "code",
   "execution_count": 58,
   "metadata": {},
   "outputs": [],
   "source": [
    "#Drop the null values from the dataframe\n",
    "df1.dropna(inplace=True)"
   ]
  },
  {
   "cell_type": "code",
   "execution_count": 59,
   "metadata": {},
   "outputs": [
    {
     "data": {
      "text/plain": [
       "InvoiceNo      0\n",
       "StockCode      0\n",
       "Description    0\n",
       "Quantity       0\n",
       "InvoiceDate    0\n",
       "UnitPrice      0\n",
       "CustomerID     0\n",
       "Country        0\n",
       "dtype: int64"
      ]
     },
     "execution_count": 59,
     "metadata": {},
     "output_type": "execute_result"
    }
   ],
   "source": [
    "df1.isnull().sum()"
   ]
  },
  {
   "cell_type": "code",
   "execution_count": 60,
   "metadata": {},
   "outputs": [
    {
     "name": "stdout",
     "output_type": "stream",
     "text": [
      "<class 'pandas.core.frame.DataFrame'>\n",
      "Int64Index: 406829 entries, 0 to 541908\n",
      "Data columns (total 8 columns):\n",
      " #   Column       Non-Null Count   Dtype  \n",
      "---  ------       --------------   -----  \n",
      " 0   InvoiceNo    406829 non-null  object \n",
      " 1   StockCode    406829 non-null  object \n",
      " 2   Description  406829 non-null  object \n",
      " 3   Quantity     406829 non-null  int64  \n",
      " 4   InvoiceDate  406829 non-null  object \n",
      " 5   UnitPrice    406829 non-null  float64\n",
      " 6   CustomerID   406829 non-null  float64\n",
      " 7   Country      406829 non-null  object \n",
      "dtypes: float64(2), int64(1), object(5)\n",
      "memory usage: 27.9+ MB\n"
     ]
    }
   ],
   "source": [
    "df1.info()"
   ]
  },
  {
   "cell_type": "code",
   "execution_count": 61,
   "metadata": {},
   "outputs": [],
   "source": [
    "#removing impurities from InvoiceNo\n",
    "df1.InvoiceNo=df1.InvoiceNo.str.replace('C','')"
   ]
  },
  {
   "cell_type": "code",
   "execution_count": 62,
   "metadata": {},
   "outputs": [],
   "source": [
    "#changing the datatype of InvoiceNo to int\n",
    "df1.InvoiceNo=df1.InvoiceNo.astype('int')"
   ]
  },
  {
   "cell_type": "code",
   "execution_count": 63,
   "metadata": {},
   "outputs": [
    {
     "name": "stdout",
     "output_type": "stream",
     "text": [
      "<class 'pandas.core.frame.DataFrame'>\n",
      "Int64Index: 406829 entries, 0 to 541908\n",
      "Data columns (total 8 columns):\n",
      " #   Column       Non-Null Count   Dtype  \n",
      "---  ------       --------------   -----  \n",
      " 0   InvoiceNo    406829 non-null  int32  \n",
      " 1   StockCode    406829 non-null  object \n",
      " 2   Description  406829 non-null  object \n",
      " 3   Quantity     406829 non-null  int64  \n",
      " 4   InvoiceDate  406829 non-null  object \n",
      " 5   UnitPrice    406829 non-null  float64\n",
      " 6   CustomerID   406829 non-null  float64\n",
      " 7   Country      406829 non-null  object \n",
      "dtypes: float64(2), int32(1), int64(1), object(4)\n",
      "memory usage: 26.4+ MB\n"
     ]
    }
   ],
   "source": [
    "df1.info()"
   ]
  },
  {
   "cell_type": "code",
   "execution_count": 64,
   "metadata": {},
   "outputs": [
    {
     "data": {
      "text/html": [
       "<div>\n",
       "<style scoped>\n",
       "    .dataframe tbody tr th:only-of-type {\n",
       "        vertical-align: middle;\n",
       "    }\n",
       "\n",
       "    .dataframe tbody tr th {\n",
       "        vertical-align: top;\n",
       "    }\n",
       "\n",
       "    .dataframe thead th {\n",
       "        text-align: right;\n",
       "    }\n",
       "</style>\n",
       "<table border=\"1\" class=\"dataframe\">\n",
       "  <thead>\n",
       "    <tr style=\"text-align: right;\">\n",
       "      <th></th>\n",
       "      <th>InvoiceNo</th>\n",
       "      <th>StockCode</th>\n",
       "      <th>Description</th>\n",
       "      <th>Quantity</th>\n",
       "      <th>InvoiceDate</th>\n",
       "      <th>UnitPrice</th>\n",
       "      <th>CustomerID</th>\n",
       "      <th>Country</th>\n",
       "    </tr>\n",
       "  </thead>\n",
       "  <tbody>\n",
       "    <tr>\n",
       "      <th>0</th>\n",
       "      <td>536365</td>\n",
       "      <td>85123A</td>\n",
       "      <td>WHITE HANGING HEART T-LIGHT HOLDER</td>\n",
       "      <td>6</td>\n",
       "      <td>12/1/2010 8:26</td>\n",
       "      <td>2.55</td>\n",
       "      <td>17850.0</td>\n",
       "      <td>United Kingdom</td>\n",
       "    </tr>\n",
       "    <tr>\n",
       "      <th>1</th>\n",
       "      <td>536365</td>\n",
       "      <td>71053</td>\n",
       "      <td>WHITE METAL LANTERN</td>\n",
       "      <td>6</td>\n",
       "      <td>12/1/2010 8:26</td>\n",
       "      <td>3.39</td>\n",
       "      <td>17850.0</td>\n",
       "      <td>United Kingdom</td>\n",
       "    </tr>\n",
       "  </tbody>\n",
       "</table>\n",
       "</div>"
      ],
      "text/plain": [
       "   InvoiceNo StockCode                         Description  Quantity  \\\n",
       "0     536365    85123A  WHITE HANGING HEART T-LIGHT HOLDER         6   \n",
       "1     536365     71053                 WHITE METAL LANTERN         6   \n",
       "\n",
       "      InvoiceDate  UnitPrice  CustomerID         Country  \n",
       "0  12/1/2010 8:26       2.55     17850.0  United Kingdom  \n",
       "1  12/1/2010 8:26       3.39     17850.0  United Kingdom  "
      ]
     },
     "execution_count": 64,
     "metadata": {},
     "output_type": "execute_result"
    }
   ],
   "source": [
    "df1.head(2)"
   ]
  },
  {
   "cell_type": "code",
   "execution_count": 68,
   "metadata": {},
   "outputs": [],
   "source": [
    "#sorting the dataframe by InvoiceNo\n",
    "df1=df1.sort_values(by='InvoiceNo').reset_index(drop=True)"
   ]
  },
  {
   "cell_type": "code",
   "execution_count": 69,
   "metadata": {},
   "outputs": [
    {
     "data": {
      "text/html": [
       "<div>\n",
       "<style scoped>\n",
       "    .dataframe tbody tr th:only-of-type {\n",
       "        vertical-align: middle;\n",
       "    }\n",
       "\n",
       "    .dataframe tbody tr th {\n",
       "        vertical-align: top;\n",
       "    }\n",
       "\n",
       "    .dataframe thead th {\n",
       "        text-align: right;\n",
       "    }\n",
       "</style>\n",
       "<table border=\"1\" class=\"dataframe\">\n",
       "  <thead>\n",
       "    <tr style=\"text-align: right;\">\n",
       "      <th></th>\n",
       "      <th>InvoiceNo</th>\n",
       "      <th>StockCode</th>\n",
       "      <th>Description</th>\n",
       "      <th>Quantity</th>\n",
       "      <th>InvoiceDate</th>\n",
       "      <th>UnitPrice</th>\n",
       "      <th>CustomerID</th>\n",
       "      <th>Country</th>\n",
       "    </tr>\n",
       "  </thead>\n",
       "  <tbody>\n",
       "    <tr>\n",
       "      <th>0</th>\n",
       "      <td>536365</td>\n",
       "      <td>85123A</td>\n",
       "      <td>WHITE HANGING HEART T-LIGHT HOLDER</td>\n",
       "      <td>6</td>\n",
       "      <td>12/1/2010 8:26</td>\n",
       "      <td>2.55</td>\n",
       "      <td>17850.0</td>\n",
       "      <td>United Kingdom</td>\n",
       "    </tr>\n",
       "    <tr>\n",
       "      <th>1</th>\n",
       "      <td>536365</td>\n",
       "      <td>71053</td>\n",
       "      <td>WHITE METAL LANTERN</td>\n",
       "      <td>6</td>\n",
       "      <td>12/1/2010 8:26</td>\n",
       "      <td>3.39</td>\n",
       "      <td>17850.0</td>\n",
       "      <td>United Kingdom</td>\n",
       "    </tr>\n",
       "  </tbody>\n",
       "</table>\n",
       "</div>"
      ],
      "text/plain": [
       "   InvoiceNo StockCode                         Description  Quantity  \\\n",
       "0     536365    85123A  WHITE HANGING HEART T-LIGHT HOLDER         6   \n",
       "1     536365     71053                 WHITE METAL LANTERN         6   \n",
       "\n",
       "      InvoiceDate  UnitPrice  CustomerID         Country  \n",
       "0  12/1/2010 8:26       2.55     17850.0  United Kingdom  \n",
       "1  12/1/2010 8:26       3.39     17850.0  United Kingdom  "
      ]
     },
     "execution_count": 69,
     "metadata": {},
     "output_type": "execute_result"
    }
   ],
   "source": [
    "df1.head(2)"
   ]
  },
  {
   "cell_type": "code",
   "execution_count": 70,
   "metadata": {},
   "outputs": [],
   "source": [
    "#Preparing list of lists for items in each InvoiceNo\n",
    "records=[]\n",
    "items=[]\n",
    "invoice=df1.loc[0,'InvoiceNo']\n",
    "for index,row in df1.iterrows():\n",
    "    if(row['InvoiceNo']==invoice):\n",
    "        items.append(row['Description'])\n",
    "    else:\n",
    "        records.append(items)\n",
    "        invoice=row['InvoiceNo']\n",
    "        items=[]\n",
    "        items.append(row['Description'])\n",
    "records.append(items)"
   ]
  },
  {
   "cell_type": "code",
   "execution_count": 71,
   "metadata": {},
   "outputs": [],
   "source": [
    "from apyori import apriori"
   ]
  },
  {
   "cell_type": "code",
   "execution_count": 132,
   "metadata": {},
   "outputs": [],
   "source": [
    "#applying apriori algorithm to find association rules\n",
    "associationrules=apriori(records,min_support=0.02,min_confidence=0.4,min_lift=7,min_length=2)"
   ]
  },
  {
   "cell_type": "code",
   "execution_count": 133,
   "metadata": {},
   "outputs": [],
   "source": [
    "#converting the accociation rules to list for better readability\n",
    "association_results=list(associationrules)"
   ]
  },
  {
   "cell_type": "code",
   "execution_count": 134,
   "metadata": {},
   "outputs": [
    {
     "data": {
      "text/plain": [
       "15"
      ]
     },
     "execution_count": 134,
     "metadata": {},
     "output_type": "execute_result"
    }
   ],
   "source": [
    "#Checking the number of association rules\n",
    "len(association_results)"
   ]
  },
  {
   "cell_type": "code",
   "execution_count": 135,
   "metadata": {},
   "outputs": [
    {
     "name": "stdout",
     "output_type": "stream",
     "text": [
      "frozenset({'ALARM CLOCK BAKELIKE GREEN', 'ALARM CLOCK BAKELIKE RED '})\n",
      "frozenset({'GARDENERS KNEELING PAD KEEP CALM ', 'GARDENERS KNEELING PAD CUP OF TEA '})\n",
      "frozenset({'PINK REGENCY TEACUP AND SAUCER', 'GREEN REGENCY TEACUP AND SAUCER'})\n",
      "frozenset({'GREEN REGENCY TEACUP AND SAUCER', 'ROSES REGENCY TEACUP AND SAUCER '})\n",
      "frozenset({'JUMBO BAG PINK POLKADOT', 'JUMBO BAG RED RETROSPOT'})\n",
      "frozenset({'LUNCH BAG  BLACK SKULL.', 'LUNCH BAG PINK POLKADOT'})\n",
      "frozenset({'LUNCH BAG  BLACK SKULL.', 'LUNCH BAG RED RETROSPOT'})\n",
      "frozenset({'LUNCH BAG RED RETROSPOT', 'LUNCH BAG CARS BLUE'})\n",
      "frozenset({'LUNCH BAG RED RETROSPOT', 'LUNCH BAG PINK POLKADOT'})\n",
      "frozenset({'LUNCH BAG RED RETROSPOT', 'LUNCH BAG SPACEBOY DESIGN '})\n",
      "frozenset({'LUNCH BAG RED RETROSPOT', 'LUNCH BAG SUKI DESIGN '})\n",
      "frozenset({\"PAPER CHAIN KIT 50'S CHRISTMAS \", 'PAPER CHAIN KIT VINTAGE CHRISTMAS'})\n",
      "frozenset({'PINK REGENCY TEACUP AND SAUCER', 'ROSES REGENCY TEACUP AND SAUCER '})\n",
      "frozenset({'WHITE HANGING HEART T-LIGHT HOLDER', 'RED HANGING HEART T-LIGHT HOLDER'})\n",
      "frozenset({'WOODEN FRAME ANTIQUE WHITE ', 'WOODEN PICTURE FRAME WHITE FINISH'})\n"
     ]
    }
   ],
   "source": [
    "#Print the list of products frequently bought together\n",
    "for i in range(len(association_results)):\n",
    "    print(association_results[i][0])"
   ]
  }
 ],
 "metadata": {
  "colab": {
   "provenance": []
  },
  "kernelspec": {
   "display_name": "Python 3 (ipykernel)",
   "language": "python",
   "name": "python3"
  },
  "language_info": {
   "codemirror_mode": {
    "name": "ipython",
    "version": 3
   },
   "file_extension": ".py",
   "mimetype": "text/x-python",
   "name": "python",
   "nbconvert_exporter": "python",
   "pygments_lexer": "ipython3",
   "version": "3.9.13"
  }
 },
 "nbformat": 4,
 "nbformat_minor": 1
}
